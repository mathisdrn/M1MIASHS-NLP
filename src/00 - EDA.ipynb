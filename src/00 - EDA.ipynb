{
 "cells": [
  {
   "cell_type": "markdown",
   "metadata": {},
   "source": [
    "---\n",
    "title: Exploratory Data Analysis\n",
    "description: ...\n",
    "---"
   ]
  },
  {
   "cell_type": "markdown",
   "metadata": {},
   "source": [
    "### Imports"
   ]
  },
  {
   "cell_type": "code",
   "execution_count": 1,
   "metadata": {},
   "outputs": [],
   "source": [
    "import pandas as pd\n",
    "import numpy as np\n",
    "from pathlib import Path"
   ]
  },
  {
   "cell_type": "markdown",
   "metadata": {},
   "source": [
    "### Loading data"
   ]
  },
  {
   "cell_type": "code",
   "execution_count": 2,
   "metadata": {},
   "outputs": [
    {
     "data": {
      "text/html": [
       "<div>\n",
       "<style scoped>\n",
       "    .dataframe tbody tr th:only-of-type {\n",
       "        vertical-align: middle;\n",
       "    }\n",
       "\n",
       "    .dataframe tbody tr th {\n",
       "        vertical-align: top;\n",
       "    }\n",
       "\n",
       "    .dataframe thead th {\n",
       "        text-align: right;\n",
       "    }\n",
       "</style>\n",
       "<table border=\"1\" class=\"dataframe\">\n",
       "  <thead>\n",
       "    <tr style=\"text-align: right;\">\n",
       "      <th></th>\n",
       "      <th>labels</th>\n",
       "      <th>text</th>\n",
       "      <th>text_hi</th>\n",
       "      <th>text_de</th>\n",
       "      <th>text_fr</th>\n",
       "    </tr>\n",
       "  </thead>\n",
       "  <tbody>\n",
       "    <tr>\n",
       "      <th>0</th>\n",
       "      <td>ham</td>\n",
       "      <td>Go until jurong point, crazy.. Available only ...</td>\n",
       "      <td>Dakag बिंदु तक जाओ, पागल. केवल Bag Non महान वि...</td>\n",
       "      <td>Gehen Sie bis jurong Punkt, verrückt.. Verfügb...</td>\n",
       "      <td>Allez jusqu'à Jurong point, fou.. Disponible s...</td>\n",
       "    </tr>\n",
       "    <tr>\n",
       "      <th>1</th>\n",
       "      <td>ham</td>\n",
       "      <td>Ok lar... Joking wif u oni...</td>\n",
       "      <td>ओके लामर.... if if uue पर.</td>\n",
       "      <td>Ok Lar... joking wif u oni...</td>\n",
       "      <td>J'ai fait une blague sur le wif u oni...</td>\n",
       "    </tr>\n",
       "    <tr>\n",
       "      <th>2</th>\n",
       "      <td>spam</td>\n",
       "      <td>Free entry in 2 a wkly comp to win FA Cup fina...</td>\n",
       "      <td>Fktatatat 21 मई को प्राप्त करने के लिए मुफ्त प...</td>\n",
       "      <td>Freier Eintritt in 2 a wkly comp zum Gewinn FA...</td>\n",
       "      <td>Entrée libre dans 2 a wkly comp pour gagner FA...</td>\n",
       "    </tr>\n",
       "    <tr>\n",
       "      <th>3</th>\n",
       "      <td>ham</td>\n",
       "      <td>U dun say so early hor... U c already then say...</td>\n",
       "      <td>Uden इतना जल्दी कहते हैं... तो पहले से ही यूसी...</td>\n",
       "      <td>U dun sagen so früh... U c schon dann sagen...</td>\n",
       "      <td>U dun dit si tôt hor... U c déjà dire alors...</td>\n",
       "    </tr>\n",
       "    <tr>\n",
       "      <th>4</th>\n",
       "      <td>ham</td>\n",
       "      <td>Nah I don't think he goes to usf, he lives aro...</td>\n",
       "      <td>नहीं, मुझे नहीं लगता कि वह हमारे लिए चला जाता ...</td>\n",
       "      <td>Nein, ich glaube nicht, dass er zu unsf geht, ...</td>\n",
       "      <td>Non, je ne pense pas qu'il va à usf, il vit da...</td>\n",
       "    </tr>\n",
       "  </tbody>\n",
       "</table>\n",
       "</div>"
      ],
      "text/plain": [
       "  labels                                               text  \\\n",
       "0    ham  Go until jurong point, crazy.. Available only ...   \n",
       "1    ham                      Ok lar... Joking wif u oni...   \n",
       "2   spam  Free entry in 2 a wkly comp to win FA Cup fina...   \n",
       "3    ham  U dun say so early hor... U c already then say...   \n",
       "4    ham  Nah I don't think he goes to usf, he lives aro...   \n",
       "\n",
       "                                             text_hi  \\\n",
       "0  Dakag बिंदु तक जाओ, पागल. केवल Bag Non महान वि...   \n",
       "1                         ओके लामर.... if if uue पर.   \n",
       "2  Fktatatat 21 मई को प्राप्त करने के लिए मुफ्त प...   \n",
       "3  Uden इतना जल्दी कहते हैं... तो पहले से ही यूसी...   \n",
       "4  नहीं, मुझे नहीं लगता कि वह हमारे लिए चला जाता ...   \n",
       "\n",
       "                                             text_de  \\\n",
       "0  Gehen Sie bis jurong Punkt, verrückt.. Verfügb...   \n",
       "1                      Ok Lar... joking wif u oni...   \n",
       "2  Freier Eintritt in 2 a wkly comp zum Gewinn FA...   \n",
       "3     U dun sagen so früh... U c schon dann sagen...   \n",
       "4  Nein, ich glaube nicht, dass er zu unsf geht, ...   \n",
       "\n",
       "                                             text_fr  \n",
       "0  Allez jusqu'à Jurong point, fou.. Disponible s...  \n",
       "1           J'ai fait une blague sur le wif u oni...  \n",
       "2  Entrée libre dans 2 a wkly comp pour gagner FA...  \n",
       "3     U dun dit si tôt hor... U c déjà dire alors...  \n",
       "4  Non, je ne pense pas qu'il va à usf, il vit da...  "
      ]
     },
     "execution_count": 2,
     "metadata": {},
     "output_type": "execute_result"
    }
   ],
   "source": [
    "#| label: table_original_data_head\n",
    "\n",
    "data = Path('../data/data-en-hi-de-fr.csv')\n",
    "df = pd.read_csv(data)\n",
    "df.head()"
   ]
  },
  {
   "cell_type": "code",
   "execution_count": 3,
   "metadata": {},
   "outputs": [
    {
     "data": {
      "text/plain": [
       "labels\n",
       "ham     4825\n",
       "spam     747\n",
       "Name: count, dtype: int64"
      ]
     },
     "execution_count": 3,
     "metadata": {},
     "output_type": "execute_result"
    }
   ],
   "source": [
    "df.labels.value_counts()"
   ]
  },
  {
   "cell_type": "code",
   "execution_count": 4,
   "metadata": {},
   "outputs": [
    {
     "data": {
      "text/html": [
       "<style type=\"text/css\">\n",
       "#T_3bf37_row0_col1, #T_3bf37_row1_col1, #T_3bf37_row2_col1, #T_3bf37_row3_col1, #T_3bf37_row4_col1 {\n",
       "  width: 1000px;\n",
       "}\n",
       "</style>\n",
       "<table id=\"T_3bf37\">\n",
       "  <thead>\n",
       "    <tr>\n",
       "      <th id=\"T_3bf37_level0_col0\" class=\"col_heading level0 col0\" >is_spam</th>\n",
       "      <th id=\"T_3bf37_level0_col1\" class=\"col_heading level0 col1\" >text</th>\n",
       "    </tr>\n",
       "  </thead>\n",
       "  <tbody>\n",
       "    <tr>\n",
       "      <td id=\"T_3bf37_row0_col0\" class=\"data row0 col0\" >0</td>\n",
       "      <td id=\"T_3bf37_row0_col1\" class=\"data row0 col1\" >Allez jusqu'à Jurong point, fou.. Disponible seulement dans bugis n grand monde la e buffet... Cine il y a eu plus...</td>\n",
       "    </tr>\n",
       "    <tr>\n",
       "      <td id=\"T_3bf37_row1_col0\" class=\"data row1 col0\" >0</td>\n",
       "      <td id=\"T_3bf37_row1_col1\" class=\"data row1 col1\" >J'ai fait une blague sur le wif u oni...</td>\n",
       "    </tr>\n",
       "    <tr>\n",
       "      <td id=\"T_3bf37_row2_col0\" class=\"data row2 col0\" >1</td>\n",
       "      <td id=\"T_3bf37_row2_col1\" class=\"data row2 col1\" >Entrée libre dans 2 a wkly comp pour gagner FA Cup final tkts 21 mai 2005. Texte FA à 87121 pour recevoir la question d'entrée(std txt rate)T&C's appliquer 08452810075over18's</td>\n",
       "    </tr>\n",
       "    <tr>\n",
       "      <td id=\"T_3bf37_row3_col0\" class=\"data row3 col0\" >0</td>\n",
       "      <td id=\"T_3bf37_row3_col1\" class=\"data row3 col1\" >U dun dit si tôt hor... U c déjà dire alors...</td>\n",
       "    </tr>\n",
       "    <tr>\n",
       "      <td id=\"T_3bf37_row4_col0\" class=\"data row4 col0\" >0</td>\n",
       "      <td id=\"T_3bf37_row4_col1\" class=\"data row4 col1\" >Non, je ne pense pas qu'il va à usf, il vit dans le coin.</td>\n",
       "    </tr>\n",
       "  </tbody>\n",
       "</table>\n"
      ],
      "text/plain": [
       "<pandas.io.formats.style.Styler at 0x104801fd0>"
      ]
     },
     "execution_count": 4,
     "metadata": {},
     "output_type": "execute_result"
    }
   ],
   "source": [
    "#| label: table_data_head\n",
    "\n",
    "df = df[['labels', 'text_fr']]\n",
    "df['labels'] = df['labels'].map({'ham': 0, 'spam': 1})\n",
    "df = df.rename(columns={'text_fr': 'text', 'labels': 'is_spam'})\n",
    "\n",
    "df.head().style.set_properties(subset=['text'], **{'width': '1000px'}).hide(axis='index')"
   ]
  },
  {
   "cell_type": "markdown",
   "metadata": {},
   "source": [
    "### Preprocessing"
   ]
  },
  {
   "cell_type": "code",
   "execution_count": 5,
   "metadata": {},
   "outputs": [],
   "source": [
    "from sklearn.pipeline import Pipeline\n",
    "from sklearn.feature_extraction.text import CountVectorizer, TfidfTransformer\n",
    "\n",
    "preprocessor = Pipeline([\n",
    "    ('vectorizer', CountVectorizer()),\n",
    "    ('tfidf_transformer', TfidfTransformer()),\n",
    "])\n",
    "\n",
    "preprocessor_param = {\n",
    "    'preprocessor__vectorizer__ngram_range': [(1, 2)],\n",
    "    'preprocessor__vectorizer__max_df': [0.5],\n",
    "    'preprocessor__vectorizer__min_df': [0.01],\n",
    "    'preprocessor__tfidf_transformer__use_idf': [True],\n",
    "}"
   ]
  },
  {
   "cell_type": "markdown",
   "metadata": {},
   "source": [
    "### Model definition"
   ]
  },
  {
   "cell_type": "code",
   "execution_count": 6,
   "metadata": {},
   "outputs": [],
   "source": [
    "from sklearn.naive_bayes import MultinomialNB\n",
    "from sklearn.linear_model import LogisticRegression\n",
    "from sklearn.svm import SVC\n",
    "\n",
    "models = [\n",
    "    {\n",
    "        'model_name' : 'Naive Bayes',\n",
    "        'model_filepath' : Path('naive_bayes_model.pkl'),\n",
    "        'model_instance' : MultinomialNB(),\n",
    "        'model_param' : \n",
    "        {\n",
    "            'model__alpha' : np.linspace(0.1, 1, 10)\n",
    "        },\n",
    "        'best_model' : None,\n",
    "    },\n",
    "    {\n",
    "        'model_name' : 'Logistic Regression',\n",
    "        'model_filepath' : Path('logistic_regression_model.pkl'),\n",
    "        'model_instance' : LogisticRegression(max_iter=1000),\n",
    "        'model_param' : \n",
    "        {\n",
    "            'model__C' : np.linspace(0.1, 1, 10)\n",
    "        },\n",
    "        'best_model' : None,\n",
    "    },\n",
    "    {\n",
    "        'model_name' : 'SVM',\n",
    "        'model_filepath' : Path('svm_model.pkl'),\n",
    "        'model_instance' : SVC(probability=True),\n",
    "        'model_param' : \n",
    "        { \n",
    "            'model__C' : np.linspace(0.1, 1, 5) \n",
    "        },\n",
    "        'best_model': None,\n",
    "    }\n",
    "]"
   ]
  },
  {
   "cell_type": "markdown",
   "metadata": {},
   "source": [
    "### Model training"
   ]
  },
  {
   "cell_type": "code",
   "execution_count": 7,
   "metadata": {},
   "outputs": [
    {
     "name": "stdout",
     "output_type": "stream",
     "text": [
      "Best parameters for Naive Bayes: {'model__alpha': np.float64(0.30000000000000004), 'preprocessor__tfidf_transformer__use_idf': True, 'preprocessor__vectorizer__max_df': 0.5, 'preprocessor__vectorizer__min_df': 0.01, 'preprocessor__vectorizer__ngram_range': (1, 2)}\n",
      "Best parameters for Logistic Regression: {'model__C': np.float64(1.0), 'preprocessor__tfidf_transformer__use_idf': True, 'preprocessor__vectorizer__max_df': 0.5, 'preprocessor__vectorizer__min_df': 0.01, 'preprocessor__vectorizer__ngram_range': (1, 2)}\n",
      "Best parameters for SVM: {'model__C': np.float64(1.0), 'preprocessor__tfidf_transformer__use_idf': True, 'preprocessor__vectorizer__max_df': 0.5, 'preprocessor__vectorizer__min_df': 0.01, 'preprocessor__vectorizer__ngram_range': (1, 2)}\n"
     ]
    }
   ],
   "source": [
    "from sklearn.model_selection import train_test_split, GridSearchCV\n",
    "\n",
    "X_train, X_test, y_train, y_test = train_test_split(df['text'], df['is_spam'], test_size=0.3, random_state=42)\n",
    "\n",
    "for model_infos in models:\n",
    "    \n",
    "    pipeline = Pipeline([\n",
    "        ('preprocessor', preprocessor),\n",
    "        ('model', model_infos['model_instance'])\n",
    "    ])\n",
    "    \n",
    "    param_grid = {**preprocessor_param, **model_infos['model_param']}\n",
    "    \n",
    "    grid_search = GridSearchCV(pipeline, param_grid, cv=5, n_jobs=-1)\n",
    "    grid_search.fit(X_train, y_train)\n",
    "    \n",
    "    # Print the best parameters\n",
    "    print(f\"Best parameters for {model_infos['model_name']}: {grid_search.best_params_}\")\n",
    "    # Save the best model and parameters\n",
    "    model_infos['best_model'] = grid_search.best_estimator_"
   ]
  },
  {
   "cell_type": "markdown",
   "metadata": {},
   "source": [
    "### Model evaluation"
   ]
  },
  {
   "cell_type": "code",
   "execution_count": 8,
   "metadata": {},
   "outputs": [],
   "source": [
    "from utils import roc_plot, precision_recall_plot, table_report"
   ]
  },
  {
   "cell_type": "code",
   "execution_count": 9,
   "metadata": {},
   "outputs": [],
   "source": [
    "model_infos = models[0]\n",
    "best_model = model_infos['best_model']\n",
    "y_pred = best_model.predict(X_test)\n",
    "y_pred_proba = best_model.predict_proba(X_test)"
   ]
  },
  {
   "cell_type": "markdown",
   "metadata": {},
   "source": [
    "#### Naive Bayes"
   ]
  },
  {
   "cell_type": "code",
   "execution_count": 10,
   "metadata": {},
   "outputs": [],
   "source": [
    "model_infos = models[0]\n",
    "best_model = model_infos['best_model']\n",
    "y_pred = best_model.predict(X_test)\n",
    "y_pred_proba = best_model.predict_proba(X_test)"
   ]
  },
  {
   "cell_type": "code",
   "execution_count": 11,
   "metadata": {},
   "outputs": [
    {
     "data": {
      "text/html": [
       "<div>\n",
       "<style scoped>\n",
       "    .dataframe tbody tr th:only-of-type {\n",
       "        vertical-align: middle;\n",
       "    }\n",
       "\n",
       "    .dataframe tbody tr th {\n",
       "        vertical-align: top;\n",
       "    }\n",
       "\n",
       "    .dataframe thead th {\n",
       "        text-align: right;\n",
       "    }\n",
       "</style>\n",
       "<table border=\"1\" class=\"dataframe\">\n",
       "  <thead>\n",
       "    <tr style=\"text-align: right;\">\n",
       "      <th></th>\n",
       "      <th>precision</th>\n",
       "      <th>recall</th>\n",
       "      <th>f1-score</th>\n",
       "      <th>support</th>\n",
       "    </tr>\n",
       "  </thead>\n",
       "  <tbody>\n",
       "    <tr>\n",
       "      <th>ham</th>\n",
       "      <td>97.43%</td>\n",
       "      <td>99.52%</td>\n",
       "      <td>98.46%</td>\n",
       "      <td>1448</td>\n",
       "    </tr>\n",
       "    <tr>\n",
       "      <th>spam</th>\n",
       "      <td>96.37%</td>\n",
       "      <td>83.04%</td>\n",
       "      <td>89.21%</td>\n",
       "      <td>224</td>\n",
       "    </tr>\n",
       "    <tr>\n",
       "      <th>accuracy</th>\n",
       "      <td></td>\n",
       "      <td></td>\n",
       "      <td>97.31%</td>\n",
       "      <td>1672</td>\n",
       "    </tr>\n",
       "    <tr>\n",
       "      <th>macro avg</th>\n",
       "      <td>96.90%</td>\n",
       "      <td>91.28%</td>\n",
       "      <td>93.84%</td>\n",
       "      <td>1672</td>\n",
       "    </tr>\n",
       "    <tr>\n",
       "      <th>weighted avg</th>\n",
       "      <td>97.29%</td>\n",
       "      <td>97.31%</td>\n",
       "      <td>97.22%</td>\n",
       "      <td>1672</td>\n",
       "    </tr>\n",
       "  </tbody>\n",
       "</table>\n",
       "</div>"
      ],
      "text/plain": [
       "             precision  recall f1-score  support\n",
       "ham             97.43%  99.52%   98.46%     1448\n",
       "spam            96.37%  83.04%   89.21%      224\n",
       "accuracy                         97.31%     1672\n",
       "macro avg       96.90%  91.28%   93.84%     1672\n",
       "weighted avg    97.29%  97.31%   97.22%     1672"
      ]
     },
     "metadata": {},
     "output_type": "display_data"
    }
   ],
   "source": [
    "#| label: table_report_bayes\n",
    "table_report(y_test, y_pred)"
   ]
  },
  {
   "cell_type": "code",
   "execution_count": 12,
   "metadata": {},
   "outputs": [
    {
     "data": {
      "image/png": "[encoded data removed]",
      "text/plain": [
       "<Figure size 400x300 with 1 Axes>"
      ]
     },
     "metadata": {},
     "output_type": "display_data"
    }
   ],
   "source": [
    "#| label: figure_pr_bayes\n",
    "precision_recall_plot(y_test, y_pred_proba[:, 1])"
   ]
  },
  {
   "cell_type": "code",
   "execution_count": 13,
   "metadata": {},
   "outputs": [
    {
     "data": {
      "image/png": "[encoded data removed]",
      "text/plain": [
       "<Figure size 400x300 with 1 Axes>"
      ]
     },
     "metadata": {},
     "output_type": "display_data"
    }
   ],
   "source": [
    "#| label: figure_roc_bayes\n",
    "roc_plot(y_test, y_pred_proba[:, 1])"
   ]
  },
  {
   "cell_type": "markdown",
   "metadata": {},
   "source": [
    "#### Logistic Regression"
   ]
  },
  {
   "cell_type": "code",
   "execution_count": 14,
   "metadata": {},
   "outputs": [],
   "source": [
    "model_infos = models[1]\n",
    "best_model = model_infos['best_model']\n",
    "y_pred = best_model.predict(X_test)\n",
    "y_pred_proba = best_model.predict_proba(X_test)"
   ]
  },
  {
   "cell_type": "code",
   "execution_count": 15,
   "metadata": {},
   "outputs": [
    {
     "data": {
      "text/html": [
       "<div>\n",
       "<style scoped>\n",
       "    .dataframe tbody tr th:only-of-type {\n",
       "        vertical-align: middle;\n",
       "    }\n",
       "\n",
       "    .dataframe tbody tr th {\n",
       "        vertical-align: top;\n",
       "    }\n",
       "\n",
       "    .dataframe thead th {\n",
       "        text-align: right;\n",
       "    }\n",
       "</style>\n",
       "<table border=\"1\" class=\"dataframe\">\n",
       "  <thead>\n",
       "    <tr style=\"text-align: right;\">\n",
       "      <th></th>\n",
       "      <th>precision</th>\n",
       "      <th>recall</th>\n",
       "      <th>f1-score</th>\n",
       "      <th>support</th>\n",
       "    </tr>\n",
       "  </thead>\n",
       "  <tbody>\n",
       "    <tr>\n",
       "      <th>ham</th>\n",
       "      <td>96.98%</td>\n",
       "      <td>99.72%</td>\n",
       "      <td>98.33%</td>\n",
       "      <td>1448</td>\n",
       "    </tr>\n",
       "    <tr>\n",
       "      <th>spam</th>\n",
       "      <td>97.81%</td>\n",
       "      <td>79.91%</td>\n",
       "      <td>87.96%</td>\n",
       "      <td>224</td>\n",
       "    </tr>\n",
       "    <tr>\n",
       "      <th>accuracy</th>\n",
       "      <td></td>\n",
       "      <td></td>\n",
       "      <td>97.07%</td>\n",
       "      <td>1672</td>\n",
       "    </tr>\n",
       "    <tr>\n",
       "      <th>macro avg</th>\n",
       "      <td>97.40%</td>\n",
       "      <td>89.82%</td>\n",
       "      <td>93.15%</td>\n",
       "      <td>1672</td>\n",
       "    </tr>\n",
       "    <tr>\n",
       "      <th>weighted avg</th>\n",
       "      <td>97.09%</td>\n",
       "      <td>97.07%</td>\n",
       "      <td>96.94%</td>\n",
       "      <td>1672</td>\n",
       "    </tr>\n",
       "  </tbody>\n",
       "</table>\n",
       "</div>"
      ],
      "text/plain": [
       "             precision  recall f1-score  support\n",
       "ham             96.98%  99.72%   98.33%     1448\n",
       "spam            97.81%  79.91%   87.96%      224\n",
       "accuracy                         97.07%     1672\n",
       "macro avg       97.40%  89.82%   93.15%     1672\n",
       "weighted avg    97.09%  97.07%   96.94%     1672"
      ]
     },
     "metadata": {},
     "output_type": "display_data"
    }
   ],
   "source": [
    "#| label: table_report_LR\n",
    "table_report(y_test, y_pred)"
   ]
  },
  {
   "cell_type": "code",
   "execution_count": 16,
   "metadata": {},
   "outputs": [
    {
     "data": {
      "image/png": "[encoded data removed]",
      "text/plain": [
       "<Figure size 400x300 with 1 Axes>"
      ]
     },
     "metadata": {},
     "output_type": "display_data"
    }
   ],
   "source": [
    "#| label: figure_pr_LR\n",
    "precision_recall_plot(y_test, y_pred_proba[:, 1])"
   ]
  },
  {
   "cell_type": "code",
   "execution_count": 17,
   "metadata": {},
   "outputs": [
    {
     "data": {
      "image/png": "[encoded data removed]",
      "text/plain": [
       "<Figure size 400x300 with 1 Axes>"
      ]
     },
     "metadata": {},
     "output_type": "display_data"
    }
   ],
   "source": [
    "#| label: figure_roc_LR\n",
    "roc_plot(y_test, y_pred_proba[:, 1])"
   ]
  },
  {
   "cell_type": "markdown",
   "metadata": {},
   "source": [
    "#### Support-vector clustering"
   ]
  },
  {
   "cell_type": "code",
   "execution_count": 18,
   "metadata": {},
   "outputs": [],
   "source": [
    "model_infos = models[2]\n",
    "best_model = model_infos['best_model']\n",
    "y_pred = best_model.predict(X_test)\n",
    "y_pred_proba = best_model.predict_proba(X_test)"
   ]
  },
  {
   "cell_type": "code",
   "execution_count": 19,
   "metadata": {},
   "outputs": [
    {
     "data": {
      "text/html": [
       "<div>\n",
       "<style scoped>\n",
       "    .dataframe tbody tr th:only-of-type {\n",
       "        vertical-align: middle;\n",
       "    }\n",
       "\n",
       "    .dataframe tbody tr th {\n",
       "        vertical-align: top;\n",
       "    }\n",
       "\n",
       "    .dataframe thead th {\n",
       "        text-align: right;\n",
       "    }\n",
       "</style>\n",
       "<table border=\"1\" class=\"dataframe\">\n",
       "  <thead>\n",
       "    <tr style=\"text-align: right;\">\n",
       "      <th></th>\n",
       "      <th>precision</th>\n",
       "      <th>recall</th>\n",
       "      <th>f1-score</th>\n",
       "      <th>support</th>\n",
       "    </tr>\n",
       "  </thead>\n",
       "  <tbody>\n",
       "    <tr>\n",
       "      <th>ham</th>\n",
       "      <td>98.10%</td>\n",
       "      <td>99.79%</td>\n",
       "      <td>98.94%</td>\n",
       "      <td>1448</td>\n",
       "    </tr>\n",
       "    <tr>\n",
       "      <th>spam</th>\n",
       "      <td>98.49%</td>\n",
       "      <td>87.50%</td>\n",
       "      <td>92.67%</td>\n",
       "      <td>224</td>\n",
       "    </tr>\n",
       "    <tr>\n",
       "      <th>accuracy</th>\n",
       "      <td></td>\n",
       "      <td></td>\n",
       "      <td>98.15%</td>\n",
       "      <td>1672</td>\n",
       "    </tr>\n",
       "    <tr>\n",
       "      <th>macro avg</th>\n",
       "      <td>98.30%</td>\n",
       "      <td>93.65%</td>\n",
       "      <td>95.81%</td>\n",
       "      <td>1672</td>\n",
       "    </tr>\n",
       "    <tr>\n",
       "      <th>weighted avg</th>\n",
       "      <td>98.15%</td>\n",
       "      <td>98.15%</td>\n",
       "      <td>98.10%</td>\n",
       "      <td>1672</td>\n",
       "    </tr>\n",
       "  </tbody>\n",
       "</table>\n",
       "</div>"
      ],
      "text/plain": [
       "             precision  recall f1-score  support\n",
       "ham             98.10%  99.79%   98.94%     1448\n",
       "spam            98.49%  87.50%   92.67%      224\n",
       "accuracy                         98.15%     1672\n",
       "macro avg       98.30%  93.65%   95.81%     1672\n",
       "weighted avg    98.15%  98.15%   98.10%     1672"
      ]
     },
     "metadata": {},
     "output_type": "display_data"
    }
   ],
   "source": [
    "#| label: table_report_SVC\n",
    "table_report(y_test, y_pred)"
   ]
  },
  {
   "cell_type": "code",
   "execution_count": 20,
   "metadata": {},
   "outputs": [
    {
     "data": {
      "image/png": "[encoded data removed]",
      "text/plain": [
       "<Figure size 400x300 with 1 Axes>"
      ]
     },
     "metadata": {},
     "output_type": "display_data"
    }
   ],
   "source": [
    "#| label: figure_pr_SVC\n",
    "precision_recall_plot(y_test, y_pred_proba[:, 1])"
   ]
  },
  {
   "cell_type": "code",
   "execution_count": 21,
   "metadata": {},
   "outputs": [
    {
     "data": {
      "image/png": "[encoded data removed]",
      "text/plain": [
       "<Figure size 400x300 with 1 Axes>"
      ]
     },
     "metadata": {},
     "output_type": "display_data"
    }
   ],
   "source": [
    "#| label: figure_roc_SVC\n",
    "roc_plot(y_test, y_pred_proba[:, 1])"
   ]
  },
  {
   "cell_type": "markdown",
   "metadata": {},
   "source": [
    "### Refit and save model"
   ]
  },
  {
   "cell_type": "code",
   "execution_count": 22,
   "metadata": {},
   "outputs": [],
   "source": [
    "import pickle\n",
    "\n",
    "DATA_FOLDER = Path('../data')\n",
    "\n",
    "# Refit and save model\n",
    "for model_infos in models:\n",
    "    best_model = model_infos['best_model']\n",
    "    best_model.fit(df['text'], df['is_spam'])\n",
    "    \n",
    "    with open(DATA_FOLDER / model_infos['model_filepath'], 'wb') as f:\n",
    "        pickle.dump(best_model, f)"
   ]
  },
  {
   "cell_type": "markdown",
   "metadata": {},
   "source": [
    "### Load and perform model inference \n",
    "\n",
    "Add a warning admonition :\n",
    "\n",
    "The inference can only be performed when executing the notebook locally."
   ]
  },
  {
   "cell_type": "code",
   "execution_count": 23,
   "metadata": {},
   "outputs": [
    {
     "data": {
      "application/vnd.jupyter.widget-view+json": {
       "model_id": "93eef3ae0b04495e91ed40de41bcdddc",
       "version_major": 2,
       "version_minor": 0
      },
      "text/plain": [
       "Textarea(value='', description='Input:', placeholder='Type something')"
      ]
     },
     "metadata": {},
     "output_type": "display_data"
    },
    {
     "data": {
      "application/vnd.jupyter.widget-view+json": {
       "model_id": "8336c189715b497c9d6f92483d897a40",
       "version_major": 2,
       "version_minor": 0
      },
      "text/plain": [
       "Output()"
      ]
     },
     "metadata": {},
     "output_type": "display_data"
    }
   ],
   "source": [
    "import ipywidgets as widgets\n",
    "from IPython.display import display\n",
    "\n",
    "# Load the saved model\n",
    "model_filepath = Path('naive_bayes_model.pkl')  # Change this to the appropriate model file path\n",
    "with open(DATA_FOLDER / model_filepath, 'rb') as f:\n",
    "    loaded_model = pickle.load(f)\n",
    "\n",
    "# Create an input widget\n",
    "input_text = widgets.Textarea(\n",
    "    value='',\n",
    "    placeholder='Type something',\n",
    "    description='Input:',\n",
    "    disabled=False\n",
    ")\n",
    "\n",
    "# Create an output widget\n",
    "output = widgets.Output()\n",
    "\n",
    "# Define a function to perform inference\n",
    "def on_text_submit(change):\n",
    "    with output:\n",
    "        output.clear_output()\n",
    "        text = change['new']\n",
    "        prediction_proba = loaded_model.predict_proba([text])\n",
    "        print(f\"Spam probability (between 0 and 1): {prediction_proba[0][1]*100:.2f}%\")\n",
    "\n",
    "# Bind the function to the input widget\n",
    "input_text.observe(on_text_submit, names='value')\n",
    "\n",
    "# Display the widgets\n",
    "display(input_text, output)"
   ]
  }
 ],
 "metadata": {
  "kernelspec": {
   "display_name": "M1MIASHS-NLP",
   "language": "python",
   "name": "python3"
  },
  "language_info": {
   "codemirror_mode": {
    "name": "ipython",
    "version": 3
   },
   "file_extension": ".py",
   "mimetype": "text/x-python",
   "name": "python",
   "nbconvert_exporter": "python",
   "pygments_lexer": "ipython3",
   "version": "3.11.10"
  }
 },
 "nbformat": 4,
 "nbformat_minor": 2
}
