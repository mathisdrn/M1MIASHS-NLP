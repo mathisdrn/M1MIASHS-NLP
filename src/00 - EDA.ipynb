{
 "cells": [
  {
   "cell_type": "markdown",
   "metadata": {},
   "source": [
    "---\n",
    "title: Exploratory Data Analysis\n",
    "description: ...\n",
    "---"
   ]
  },
  {
   "cell_type": "markdown",
   "metadata": {},
   "source": [
    "### Imports"
   ]
  },
  {
   "cell_type": "code",
   "execution_count": 27,
   "metadata": {},
   "outputs": [],
   "source": [
    "import pandas as pd\n",
    "import numpy as np\n",
    "import matplotlib.pyplot as plt\n",
    "import seaborn as sns\n",
    "import scapy.all as scapy\n",
    "from pathlib import Path"
   ]
  },
  {
   "cell_type": "markdown",
   "metadata": {},
   "source": [
    "### Loading data"
   ]
  },
  {
   "cell_type": "code",
   "execution_count": 28,
   "metadata": {},
   "outputs": [
    {
     "data": {
      "text/html": [
       "<div>\n",
       "<style scoped>\n",
       "    .dataframe tbody tr th:only-of-type {\n",
       "        vertical-align: middle;\n",
       "    }\n",
       "\n",
       "    .dataframe tbody tr th {\n",
       "        vertical-align: top;\n",
       "    }\n",
       "\n",
       "    .dataframe thead th {\n",
       "        text-align: right;\n",
       "    }\n",
       "</style>\n",
       "<table border=\"1\" class=\"dataframe\">\n",
       "  <thead>\n",
       "    <tr style=\"text-align: right;\">\n",
       "      <th></th>\n",
       "      <th>labels</th>\n",
       "      <th>text</th>\n",
       "      <th>text_hi</th>\n",
       "      <th>text_de</th>\n",
       "      <th>text_fr</th>\n",
       "    </tr>\n",
       "  </thead>\n",
       "  <tbody>\n",
       "    <tr>\n",
       "      <th>0</th>\n",
       "      <td>ham</td>\n",
       "      <td>Go until jurong point, crazy.. Available only ...</td>\n",
       "      <td>Dakag बिंदु तक जाओ, पागल. केवल Bag Non महान वि...</td>\n",
       "      <td>Gehen Sie bis jurong Punkt, verrückt.. Verfügb...</td>\n",
       "      <td>Allez jusqu'à Jurong point, fou.. Disponible s...</td>\n",
       "    </tr>\n",
       "    <tr>\n",
       "      <th>1</th>\n",
       "      <td>ham</td>\n",
       "      <td>Ok lar... Joking wif u oni...</td>\n",
       "      <td>ओके लामर.... if if uue पर.</td>\n",
       "      <td>Ok Lar... joking wif u oni...</td>\n",
       "      <td>J'ai fait une blague sur le wif u oni...</td>\n",
       "    </tr>\n",
       "    <tr>\n",
       "      <th>2</th>\n",
       "      <td>spam</td>\n",
       "      <td>Free entry in 2 a wkly comp to win FA Cup fina...</td>\n",
       "      <td>Fktatatat 21 मई को प्राप्त करने के लिए मुफ्त प...</td>\n",
       "      <td>Freier Eintritt in 2 a wkly comp zum Gewinn FA...</td>\n",
       "      <td>Entrée libre dans 2 a wkly comp pour gagner FA...</td>\n",
       "    </tr>\n",
       "    <tr>\n",
       "      <th>3</th>\n",
       "      <td>ham</td>\n",
       "      <td>U dun say so early hor... U c already then say...</td>\n",
       "      <td>Uden इतना जल्दी कहते हैं... तो पहले से ही यूसी...</td>\n",
       "      <td>U dun sagen so früh... U c schon dann sagen...</td>\n",
       "      <td>U dun dit si tôt hor... U c déjà dire alors...</td>\n",
       "    </tr>\n",
       "    <tr>\n",
       "      <th>4</th>\n",
       "      <td>ham</td>\n",
       "      <td>Nah I don't think he goes to usf, he lives aro...</td>\n",
       "      <td>नहीं, मुझे नहीं लगता कि वह हमारे लिए चला जाता ...</td>\n",
       "      <td>Nein, ich glaube nicht, dass er zu unsf geht, ...</td>\n",
       "      <td>Non, je ne pense pas qu'il va à usf, il vit da...</td>\n",
       "    </tr>\n",
       "  </tbody>\n",
       "</table>\n",
       "</div>"
      ],
      "text/plain": [
       "  labels                                               text  \\\n",
       "0    ham  Go until jurong point, crazy.. Available only ...   \n",
       "1    ham                      Ok lar... Joking wif u oni...   \n",
       "2   spam  Free entry in 2 a wkly comp to win FA Cup fina...   \n",
       "3    ham  U dun say so early hor... U c already then say...   \n",
       "4    ham  Nah I don't think he goes to usf, he lives aro...   \n",
       "\n",
       "                                             text_hi  \\\n",
       "0  Dakag बिंदु तक जाओ, पागल. केवल Bag Non महान वि...   \n",
       "1                         ओके लामर.... if if uue पर.   \n",
       "2  Fktatatat 21 मई को प्राप्त करने के लिए मुफ्त प...   \n",
       "3  Uden इतना जल्दी कहते हैं... तो पहले से ही यूसी...   \n",
       "4  नहीं, मुझे नहीं लगता कि वह हमारे लिए चला जाता ...   \n",
       "\n",
       "                                             text_de  \\\n",
       "0  Gehen Sie bis jurong Punkt, verrückt.. Verfügb...   \n",
       "1                      Ok Lar... joking wif u oni...   \n",
       "2  Freier Eintritt in 2 a wkly comp zum Gewinn FA...   \n",
       "3     U dun sagen so früh... U c schon dann sagen...   \n",
       "4  Nein, ich glaube nicht, dass er zu unsf geht, ...   \n",
       "\n",
       "                                             text_fr  \n",
       "0  Allez jusqu'à Jurong point, fou.. Disponible s...  \n",
       "1           J'ai fait une blague sur le wif u oni...  \n",
       "2  Entrée libre dans 2 a wkly comp pour gagner FA...  \n",
       "3     U dun dit si tôt hor... U c déjà dire alors...  \n",
       "4  Non, je ne pense pas qu'il va à usf, il vit da...  "
      ]
     },
     "execution_count": 28,
     "metadata": {},
     "output_type": "execute_result"
    }
   ],
   "source": [
    "data = Path('../data/data-en-hi-de-fr.csv')\n",
    "df = pd.read_csv(data)\n",
    "df.head()"
   ]
  },
  {
   "cell_type": "code",
   "execution_count": 29,
   "metadata": {},
   "outputs": [
    {
     "data": {
      "text/plain": [
       "labels\n",
       "ham     4825\n",
       "spam     747\n",
       "Name: count, dtype: int64"
      ]
     },
     "execution_count": 29,
     "metadata": {},
     "output_type": "execute_result"
    }
   ],
   "source": [
    "df.labels.value_counts()"
   ]
  },
  {
   "cell_type": "code",
   "execution_count": 30,
   "metadata": {},
   "outputs": [],
   "source": [
    "df = df[['labels', 'text_fr']]\n",
    "df['labels'] = df['labels'].map({'ham': 0, 'spam': 1})\n",
    "df = df.rename(columns={'text_fr': 'text', 'labels': 'is_spam'})"
   ]
  },
  {
   "cell_type": "markdown",
   "metadata": {},
   "source": [
    "### Preprocessing"
   ]
  },
  {
   "cell_type": "code",
   "execution_count": 31,
   "metadata": {},
   "outputs": [],
   "source": [
    "from sklearn.feature_extraction.text import CountVectorizer\n",
    "from sklearn.pipeline import Pipeline\n",
    "from sklearn.preprocessing import StandardScaler\n",
    "from sklearn.naive_bayes import MultinomialNB\n",
    "from sklearn.linear_model import LogisticRegression\n",
    "from sklearn.svm import SVC\n",
    "from sklearn.model_selection import cross_val_score\n",
    "\n",
    "preprocessor = Pipeline([\n",
    "    ('vectorizer', CountVectorizer()),\n",
    "    ('scaler', StandardScaler(with_mean=False))\n",
    "])"
   ]
  },
  {
   "cell_type": "markdown",
   "metadata": {},
   "source": [
    "### Model definition"
   ]
  },
  {
   "cell_type": "code",
   "execution_count": 32,
   "metadata": {},
   "outputs": [],
   "source": [
    "from sklearn.naive_bayes import MultinomialNB\n",
    "from sklearn.linear_model import LogisticRegression\n",
    "from sklearn.svm import SVC\n",
    "\n",
    "models = [\n",
    "    {\n",
    "        'model_name' : 'Naive Bayes',\n",
    "        'model_filepath' : Path('naive_bayes_model.pkl'),\n",
    "        'model_instance' : MultinomialNB(),\n",
    "        'best_model': None,\n",
    "        'best_params': None,\n",
    "    },\n",
    "    {\n",
    "        'model_name' : 'Logistic Regression',\n",
    "        'model_filepath' : Path('logistic_regression_model.pkl'),\n",
    "        'model_instance' : LogisticRegression(max_iter=1000),\n",
    "        'best_model': None,\n",
    "        'best_params': None\n",
    "    },\n",
    "    {\n",
    "        'model_name' : 'SVM',\n",
    "        'model_filepath' : Path('svm_model.pkl'),\n",
    "        'model_instance' : SVC(),\n",
    "        'best_model': None,\n",
    "        'best_params': None\n",
    "    }\n",
    "]"
   ]
  },
  {
   "cell_type": "markdown",
   "metadata": {},
   "source": [
    "### Model training"
   ]
  },
  {
   "cell_type": "code",
   "execution_count": 34,
   "metadata": {},
   "outputs": [
    {
     "name": "stdout",
     "output_type": "stream",
     "text": [
      "Naive Bayes Accuracy: 0.9639 (+/- 0.0051)\n",
      "Logistic Regression Accuracy: 0.9711 (+/- 0.0045)\n",
      "SVM Accuracy: 0.9374 (+/- 0.0015)\n"
     ]
    }
   ],
   "source": [
    "# Perform Cross-Validation\n",
    "for model_infos in models:\n",
    "    \n",
    "    pipeline = Pipeline([\n",
    "        ('preprocessor', preprocessor),\n",
    "        ('model', model_infos['model_instance'])\n",
    "    ])\n",
    "\n",
    "\n",
    "    scores = cross_val_score(pipeline, df['text'], df['is_spam'], cv=5)\n",
    "    print(f\"{model_infos['model_name']} Accuracy: {np.mean(scores):.4f} (+/- {np.std(scores):.4f})\")"
   ]
  },
  {
   "cell_type": "markdown",
   "metadata": {},
   "source": [
    "### Model evaluation"
   ]
  },
  {
   "cell_type": "code",
   "execution_count": 5,
   "metadata": {},
   "outputs": [],
   "source": []
  }
 ],
 "metadata": {
  "kernelspec": {
   "display_name": "M1MIASHS-NLP",
   "language": "python",
   "name": "python3"
  },
  "language_info": {
   "codemirror_mode": {
    "name": "ipython",
    "version": 3
   },
   "file_extension": ".py",
   "mimetype": "text/x-python",
   "name": "python",
   "nbconvert_exporter": "python",
   "pygments_lexer": "ipython3",
   "version": "3.11.10"
  }
 },
 "nbformat": 4,
 "nbformat_minor": 2
}
